{
 "cells": [
  {
   "cell_type": "markdown",
   "metadata": {},
   "source": [
    "![Cluster](https://www.researchgate.net/publication/321788723/figure/fig1/AS:571405940473856@1513245200197/Figura-2-Comunidades-de-pratica-e-os-cenarios-de-estagio-e-suas-relacoes-Fonte-primeira.png)"
   ]
  },
  {
   "cell_type": "markdown",
   "metadata": {},
   "source": [
    "# Projeto - Modelo de Clusters em Python\n",
    "\n",
    "Material complementar: [A Beginner’s Guide to Hierarchical Clustering and how to Perform it in Python](https://www.analyticsvidhya.com/blog/2019/05/beginners-guide-hierarchical-clustering/)"
   ]
  },
  {
   "cell_type": "markdown",
   "metadata": {},
   "source": [
    "A análise de cluster é uma técnica estatística para agrupar indivíduos (pessoas, objetos, empresas, etc) em grupos homogênios, que sejam muito parecidos quando há a intenção de se verificar a existencia de **comportamentos semelhantes entre as observações** em relação a determinadas variáveis, é o objetivo de se criar grupos, ou **_clusters_**.  \n",
    "\n",
    "As técnicas de análise de agrupamentos são consideradas **exploratórias**, ou de **independência** uma vez que suas caracteristicas não apresentam caráter preditivo.  \n",
    "\n",
    "O pesquisador pode optar por elaborar uma análise de agrupamento quando tiver o objetivo de **ordenar e alocar as observaçoes em grupos** e, a partir de então, estudar a quantidade interessante de _clusters_ formados, ou pode a _priori_, definir a quantidade de grupos que deseja formar embasado em determinado critério, e verificar como se comportam. Independente da natureza do objetivo, a análise continuará sendo exploratória."
   ]
  },
  {
   "cell_type": "markdown",
   "metadata": {},
   "source": [
    "## Etapas do Projeto\n",
    "\n",
    " - Vizualizar as variáveis;\n",
    " - Verificar Outliers;\n",
    " - Tratamento das variáveis;\n",
    " - Executar o modelo de cluster."
   ]
  },
  {
   "cell_type": "code",
   "execution_count": 4,
   "metadata": {},
   "outputs": [],
   "source": [
    "# Leitura das Bibliotecas \n",
    "import pandas as pd\n",
    "import seaborn as sns\n",
    "import numpy as np\n",
    "import matplotlib.pyplot as plt"
   ]
  },
  {
   "cell_type": "code",
   "execution_count": 5,
   "metadata": {},
   "outputs": [
    {
     "data": {
      "text/html": [
       "<div>\n",
       "<style scoped>\n",
       "    .dataframe tbody tr th:only-of-type {\n",
       "        vertical-align: middle;\n",
       "    }\n",
       "\n",
       "    .dataframe tbody tr th {\n",
       "        vertical-align: top;\n",
       "    }\n",
       "\n",
       "    .dataframe thead th {\n",
       "        text-align: right;\n",
       "    }\n",
       "</style>\n",
       "<table border=\"1\" class=\"dataframe\">\n",
       "  <thead>\n",
       "    <tr style=\"text-align: right;\">\n",
       "      <th></th>\n",
       "      <th>country</th>\n",
       "      <th>region</th>\n",
       "      <th>group</th>\n",
       "      <th>fertility</th>\n",
       "      <th>ppgdp</th>\n",
       "      <th>lifeExpF</th>\n",
       "      <th>pctUrban</th>\n",
       "      <th>infantMortality</th>\n",
       "    </tr>\n",
       "  </thead>\n",
       "  <tbody>\n",
       "    <tr>\n",
       "      <th>0</th>\n",
       "      <td>Albania</td>\n",
       "      <td>Europe</td>\n",
       "      <td>other</td>\n",
       "      <td>1.525</td>\n",
       "      <td>3677.2</td>\n",
       "      <td>80.40</td>\n",
       "      <td>53</td>\n",
       "      <td>16.561</td>\n",
       "    </tr>\n",
       "    <tr>\n",
       "      <th>1</th>\n",
       "      <td>Algeria</td>\n",
       "      <td>Africa</td>\n",
       "      <td>africa</td>\n",
       "      <td>2.142</td>\n",
       "      <td>4473.0</td>\n",
       "      <td>75.00</td>\n",
       "      <td>67</td>\n",
       "      <td>21.458</td>\n",
       "    </tr>\n",
       "    <tr>\n",
       "      <th>2</th>\n",
       "      <td>Angola</td>\n",
       "      <td>Africa</td>\n",
       "      <td>africa</td>\n",
       "      <td>5.135</td>\n",
       "      <td>4321.9</td>\n",
       "      <td>53.17</td>\n",
       "      <td>59</td>\n",
       "      <td>96.191</td>\n",
       "    </tr>\n",
       "    <tr>\n",
       "      <th>3</th>\n",
       "      <td>Argentina</td>\n",
       "      <td>Latin Amer</td>\n",
       "      <td>other</td>\n",
       "      <td>2.172</td>\n",
       "      <td>9162.1</td>\n",
       "      <td>79.89</td>\n",
       "      <td>93</td>\n",
       "      <td>12.337</td>\n",
       "    </tr>\n",
       "    <tr>\n",
       "      <th>4</th>\n",
       "      <td>Armenia</td>\n",
       "      <td>Asia</td>\n",
       "      <td>other</td>\n",
       "      <td>1.735</td>\n",
       "      <td>3030.7</td>\n",
       "      <td>77.33</td>\n",
       "      <td>64</td>\n",
       "      <td>24.272</td>\n",
       "    </tr>\n",
       "  </tbody>\n",
       "</table>\n",
       "</div>"
      ],
      "text/plain": [
       "     country      region   group  fertility   ppgdp  lifeExpF  pctUrban  \\\n",
       "0    Albania      Europe   other      1.525  3677.2     80.40        53   \n",
       "1    Algeria      Africa  africa      2.142  4473.0     75.00        67   \n",
       "2     Angola      Africa  africa      5.135  4321.9     53.17        59   \n",
       "3  Argentina  Latin Amer   other      2.172  9162.1     79.89        93   \n",
       "4    Armenia        Asia   other      1.735  3030.7     77.33        64   \n",
       "\n",
       "   infantMortality  \n",
       "0           16.561  \n",
       "1           21.458  \n",
       "2           96.191  \n",
       "3           12.337  \n",
       "4           24.272  "
      ]
     },
     "execution_count": 5,
     "metadata": {},
     "output_type": "execute_result"
    }
   ],
   "source": [
    "# Leitura dos Data Frame\n",
    "un = pd.read_excel('DADOS_PAX_CLUSTER.xlsx', \n",
    "                   sheet_name='UN_National Stats')\n",
    "\n",
    "# Vizualização do Data Frame\n",
    "un.head()"
   ]
  },
  {
   "cell_type": "code",
   "execution_count": 6,
   "metadata": {},
   "outputs": [
    {
     "name": "stdout",
     "output_type": "stream",
     "text": [
      "<class 'pandas.core.frame.DataFrame'>\n",
      "RangeIndex: 189 entries, 0 to 188\n",
      "Data columns (total 8 columns):\n",
      " #   Column           Non-Null Count  Dtype  \n",
      "---  ------           --------------  -----  \n",
      " 0   country          189 non-null    object \n",
      " 1   region           189 non-null    object \n",
      " 2   group            189 non-null    object \n",
      " 3   fertility        189 non-null    float64\n",
      " 4   ppgdp            189 non-null    float64\n",
      " 5   lifeExpF         189 non-null    float64\n",
      " 6   pctUrban         189 non-null    int64  \n",
      " 7   infantMortality  189 non-null    float64\n",
      "dtypes: float64(4), int64(1), object(3)\n",
      "memory usage: 11.9+ KB\n"
     ]
    }
   ],
   "source": [
    "un.info()"
   ]
  },
  {
   "cell_type": "markdown",
   "metadata": {},
   "source": [
    "## Exploratory Data Analysis (EDA)"
   ]
  },
  {
   "cell_type": "markdown",
   "metadata": {},
   "source": [
    "### Análise da variável 'Fertility'"
   ]
  },
  {
   "cell_type": "code",
   "execution_count": 7,
   "metadata": {},
   "outputs": [
    {
     "data": {
      "text/plain": [
       "Text(0.5, 1.0, 'fertility')"
      ]
     },
     "execution_count": 7,
     "metadata": {},
     "output_type": "execute_result"
    },
    {
     "data": {
      "image/png": "[encoded data removed]",
      "text/plain": [
       "<Figure size 432x288 with 1 Axes>"
      ]
     },
     "metadata": {
      "needs_background": "light"
     },
     "output_type": "display_data"
    }
   ],
   "source": [
    "sns.boxplot(x = un['fertility'])\n",
    "plt.title('fertility', size = 16)"
   ]
  },
  {
   "cell_type": "code",
   "execution_count": 8,
   "metadata": {
    "scrolled": true
   },
   "outputs": [
    {
     "data": {
      "text/plain": [
       "Text(0.5, 1.0, 'Histograma de fertility')"
      ]
     },
     "execution_count": 8,
     "metadata": {},
     "output_type": "execute_result"
    },
    {
     "data": {
      "image/png": "[encoded data removed]",
      "text/plain": [
       "<Figure size 432x288 with 1 Axes>"
      ]
     },
     "metadata": {
      "needs_background": "light"
     },
     "output_type": "display_data"
    }
   ],
   "source": [
    "sns.histplot(x = un['fertility']).set_title('Histograma de fertility', size = 16)"
   ]
  },
  {
   "cell_type": "markdown",
   "metadata": {},
   "source": [
    "### Análise da variável 'ppgdp'"
   ]
  },
  {
   "cell_type": "code",
   "execution_count": 9,
   "metadata": {},
   "outputs": [
    {
     "data": {
      "text/plain": [
       "Text(0.5, 1.0, 'Variável un$ppgdp')"
      ]
     },
     "execution_count": 9,
     "metadata": {},
     "output_type": "execute_result"
    },
    {
     "data": {
      "image/png": "[encoded data removed]",
      "text/plain": [
       "<Figure size 432x288 with 1 Axes>"
      ]
     },
     "metadata": {
      "needs_background": "light"
     },
     "output_type": "display_data"
    }
   ],
   "source": [
    "sns.boxplot(x = un['ppgdp']).set_title('Variável un$ppgdp')"
   ]
  },
  {
   "cell_type": "code",
   "execution_count": 10,
   "metadata": {},
   "outputs": [
    {
     "data": {
      "text/plain": [
       "Text(0.5, 1.0, 'Variável un$ppgdp')"
      ]
     },
     "execution_count": 10,
     "metadata": {},
     "output_type": "execute_result"
    },
    {
     "data": {
      "image/png": "[encoded data removed]",
      "text/plain": [
       "<Figure size 432x288 with 1 Axes>"
      ]
     },
     "metadata": {
      "needs_background": "light"
     },
     "output_type": "display_data"
    }
   ],
   "source": [
    "# Vizualização com outlier no final do gráfico\n",
    "sns.histplot(x = un['ppgdp']).set_title('Variável un$ppgdp')"
   ]
  },
  {
   "cell_type": "code",
   "execution_count": 11,
   "metadata": {},
   "outputs": [
    {
     "data": {
      "text/plain": [
       "Text(0.5, 1.0, 'Varialvel log_ppgdp')"
      ]
     },
     "execution_count": 11,
     "metadata": {},
     "output_type": "execute_result"
    },
    {
     "data": {
      "image/png": "[encoded data removed]",
      "text/plain": [
       "<Figure size 432x288 with 1 Axes>"
      ]
     },
     "metadata": {
      "needs_background": "light"
     },
     "output_type": "display_data"
    }
   ],
   "source": [
    "# Modificando uma variável para log\n",
    "un['log_ppgdp'] = np.log(un['ppgdp']).astype('float64')\n",
    "\n",
    "# Boxplot da variavel log\n",
    "sns.boxplot(x = un['log_ppgdp']).set_title('Varialvel log_ppgdp', size = 16)"
   ]
  },
  {
   "cell_type": "code",
   "execution_count": 12,
   "metadata": {},
   "outputs": [
    {
     "data": {
      "text/plain": [
       "<AxesSubplot:xlabel='log_ppgdp', ylabel='Count'>"
      ]
     },
     "execution_count": 12,
     "metadata": {},
     "output_type": "execute_result"
    },
    {
     "data": {
      "image/png": "[encoded data removed]",
      "text/plain": [
       "<Figure size 432x288 with 1 Axes>"
      ]
     },
     "metadata": {
      "needs_background": "light"
     },
     "output_type": "display_data"
    }
   ],
   "source": [
    "# Grafico do log de ppgdp. Camuflando os outliers\n",
    "sns.histplot(x = un['log_ppgdp'])"
   ]
  },
  {
   "cell_type": "code",
   "execution_count": 13,
   "metadata": {},
   "outputs": [
    {
     "data": {
      "text/html": [
       "<div>\n",
       "<style scoped>\n",
       "    .dataframe tbody tr th:only-of-type {\n",
       "        vertical-align: middle;\n",
       "    }\n",
       "\n",
       "    .dataframe tbody tr th {\n",
       "        vertical-align: top;\n",
       "    }\n",
       "\n",
       "    .dataframe thead th {\n",
       "        text-align: right;\n",
       "    }\n",
       "</style>\n",
       "<table border=\"1\" class=\"dataframe\">\n",
       "  <thead>\n",
       "    <tr style=\"text-align: right;\">\n",
       "      <th></th>\n",
       "      <th>log_ppgdp</th>\n",
       "      <th>ppgdp</th>\n",
       "    </tr>\n",
       "  </thead>\n",
       "  <tbody>\n",
       "    <tr>\n",
       "      <th>count</th>\n",
       "      <td>189.00</td>\n",
       "      <td>189.00</td>\n",
       "    </tr>\n",
       "    <tr>\n",
       "      <th>mean</th>\n",
       "      <td>8.42</td>\n",
       "      <td>12422.92</td>\n",
       "    </tr>\n",
       "    <tr>\n",
       "      <th>std</th>\n",
       "      <td>1.55</td>\n",
       "      <td>17554.54</td>\n",
       "    </tr>\n",
       "    <tr>\n",
       "      <th>min</th>\n",
       "      <td>4.74</td>\n",
       "      <td>114.80</td>\n",
       "    </tr>\n",
       "    <tr>\n",
       "      <th>25%</th>\n",
       "      <td>7.16</td>\n",
       "      <td>1282.60</td>\n",
       "    </tr>\n",
       "    <tr>\n",
       "      <th>50%</th>\n",
       "      <td>8.41</td>\n",
       "      <td>4495.80</td>\n",
       "    </tr>\n",
       "    <tr>\n",
       "      <th>75%</th>\n",
       "      <td>9.63</td>\n",
       "      <td>15205.10</td>\n",
       "    </tr>\n",
       "    <tr>\n",
       "      <th>max</th>\n",
       "      <td>11.56</td>\n",
       "      <td>105095.40</td>\n",
       "    </tr>\n",
       "  </tbody>\n",
       "</table>\n",
       "</div>"
      ],
      "text/plain": [
       "       log_ppgdp      ppgdp\n",
       "count     189.00     189.00\n",
       "mean        8.42   12422.92\n",
       "std         1.55   17554.54\n",
       "min         4.74     114.80\n",
       "25%         7.16    1282.60\n",
       "50%         8.41    4495.80\n",
       "75%         9.63   15205.10\n",
       "max        11.56  105095.40"
      ]
     },
     "execution_count": 13,
     "metadata": {},
     "output_type": "execute_result"
    }
   ],
   "source": [
    "# Verificando o impacto de transformação de uma variável em log\n",
    "# Ocultando outlier, isso pode pejudicar na hora de montar os cluster.\n",
    "round(un[['log_ppgdp', 'ppgdp']].describe(),2)"
   ]
  },
  {
   "cell_type": "code",
   "execution_count": 14,
   "metadata": {
    "scrolled": true
   },
   "outputs": [
    {
     "data": {
      "text/plain": [
       "Text(0.5, 1.0, 'Varialvel sqtr_ppgdp')"
      ]
     },
     "execution_count": 14,
     "metadata": {},
     "output_type": "execute_result"
    },
    {
     "data": {
      "image/png": "[encoded data removed]",
      "text/plain": [
       "<Figure size 432x288 with 1 Axes>"
      ]
     },
     "metadata": {
      "needs_background": "light"
     },
     "output_type": "display_data"
    }
   ],
   "source": [
    "# Tirando a raiz quadrada do número\n",
    "un['sqtr_ppgdp'] = pow(un[['ppgdp']], .5)\n",
    "\n",
    "# Boxplot da variavel log\n",
    "sns.boxplot(x = un['sqtr_ppgdp']).set_title('Varialvel sqtr_ppgdp', size = 16)"
   ]
  },
  {
   "cell_type": "code",
   "execution_count": 15,
   "metadata": {
    "scrolled": true
   },
   "outputs": [
    {
     "data": {
      "text/plain": [
       "<AxesSubplot:xlabel='sqtr_ppgdp', ylabel='Count'>"
      ]
     },
     "execution_count": 15,
     "metadata": {},
     "output_type": "execute_result"
    },
    {
     "data": {
      "image/png": "[encoded data removed]",
      "text/plain": [
       "<Figure size 432x288 with 1 Axes>"
      ]
     },
     "metadata": {
      "needs_background": "light"
     },
     "output_type": "display_data"
    }
   ],
   "source": [
    "# Tirando a raiz da variável a vizualização melhora muito a respeito dos outliers\n",
    "sns.histplot(x = un['sqtr_ppgdp'])"
   ]
  },
  {
   "cell_type": "code",
   "execution_count": 16,
   "metadata": {},
   "outputs": [
    {
     "data": {
      "text/html": [
       "<div>\n",
       "<style scoped>\n",
       "    .dataframe tbody tr th:only-of-type {\n",
       "        vertical-align: middle;\n",
       "    }\n",
       "\n",
       "    .dataframe tbody tr th {\n",
       "        vertical-align: top;\n",
       "    }\n",
       "\n",
       "    .dataframe thead th {\n",
       "        text-align: right;\n",
       "    }\n",
       "</style>\n",
       "<table border=\"1\" class=\"dataframe\">\n",
       "  <thead>\n",
       "    <tr style=\"text-align: right;\">\n",
       "      <th></th>\n",
       "      <th>log_ppgdp</th>\n",
       "      <th>ppgdp</th>\n",
       "      <th>sqtr_ppgdp</th>\n",
       "    </tr>\n",
       "  </thead>\n",
       "  <tbody>\n",
       "    <tr>\n",
       "      <th>count</th>\n",
       "      <td>189.00</td>\n",
       "      <td>189.00</td>\n",
       "      <td>189.00</td>\n",
       "    </tr>\n",
       "    <tr>\n",
       "      <th>mean</th>\n",
       "      <td>8.42</td>\n",
       "      <td>12422.92</td>\n",
       "      <td>89.38</td>\n",
       "    </tr>\n",
       "    <tr>\n",
       "      <th>std</th>\n",
       "      <td>1.55</td>\n",
       "      <td>17554.54</td>\n",
       "      <td>66.77</td>\n",
       "    </tr>\n",
       "    <tr>\n",
       "      <th>min</th>\n",
       "      <td>4.74</td>\n",
       "      <td>114.80</td>\n",
       "      <td>10.71</td>\n",
       "    </tr>\n",
       "    <tr>\n",
       "      <th>25%</th>\n",
       "      <td>7.16</td>\n",
       "      <td>1282.60</td>\n",
       "      <td>35.81</td>\n",
       "    </tr>\n",
       "    <tr>\n",
       "      <th>50%</th>\n",
       "      <td>8.41</td>\n",
       "      <td>4495.80</td>\n",
       "      <td>67.05</td>\n",
       "    </tr>\n",
       "    <tr>\n",
       "      <th>75%</th>\n",
       "      <td>9.63</td>\n",
       "      <td>15205.10</td>\n",
       "      <td>123.31</td>\n",
       "    </tr>\n",
       "    <tr>\n",
       "      <th>max</th>\n",
       "      <td>11.56</td>\n",
       "      <td>105095.40</td>\n",
       "      <td>324.18</td>\n",
       "    </tr>\n",
       "  </tbody>\n",
       "</table>\n",
       "</div>"
      ],
      "text/plain": [
       "       log_ppgdp      ppgdp  sqtr_ppgdp\n",
       "count     189.00     189.00      189.00\n",
       "mean        8.42   12422.92       89.38\n",
       "std         1.55   17554.54       66.77\n",
       "min         4.74     114.80       10.71\n",
       "25%         7.16    1282.60       35.81\n",
       "50%         8.41    4495.80       67.05\n",
       "75%         9.63   15205.10      123.31\n",
       "max        11.56  105095.40      324.18"
      ]
     },
     "execution_count": 16,
     "metadata": {},
     "output_type": "execute_result"
    }
   ],
   "source": [
    "# Verificando o impacto de transformação de uma variável em log\n",
    "# Ocultando outlier, isso pode pejudicar na hora de montar os cluster.\n",
    "round(un[['log_ppgdp', 'ppgdp', 'sqtr_ppgdp']].describe(),2)"
   ]
  },
  {
   "cell_type": "code",
   "execution_count": 17,
   "metadata": {},
   "outputs": [
    {
     "data": {
      "text/plain": [
       "region\n",
       "Africa           51\n",
       "Asia             49\n",
       "Caribbean        13\n",
       "Europe           39\n",
       "Latin Amer       20\n",
       "North America     2\n",
       "Oceania          15\n",
       "Name: country, dtype: int64"
      ]
     },
     "execution_count": 17,
     "metadata": {},
     "output_type": "execute_result"
    }
   ],
   "source": [
    "# Verificando a coposição das variáveis categóricas no Data Frame\n",
    "un.groupby(by = un['region'])['country'].count()"
   ]
  },
  {
   "cell_type": "code",
   "execution_count": 18,
   "metadata": {
    "scrolled": true
   },
   "outputs": [
    {
     "data": {
      "text/plain": [
       "group\n",
       "africa     51\n",
       "oecd       31\n",
       "other     107\n",
       "Name: country, dtype: int64"
      ]
     },
     "execution_count": 18,
     "metadata": {},
     "output_type": "execute_result"
    }
   ],
   "source": [
    "# Verificando a coposição das variáveis categóricas no Data Frame\n",
    "un.groupby(by = un['group'])['country'].count()"
   ]
  },
  {
   "cell_type": "code",
   "execution_count": 19,
   "metadata": {},
   "outputs": [
    {
     "data": {
      "text/html": [
       "<div>\n",
       "<style scoped>\n",
       "    .dataframe tbody tr th:only-of-type {\n",
       "        vertical-align: middle;\n",
       "    }\n",
       "\n",
       "    .dataframe tbody tr th {\n",
       "        vertical-align: top;\n",
       "    }\n",
       "\n",
       "    .dataframe thead th {\n",
       "        text-align: right;\n",
       "    }\n",
       "</style>\n",
       "<table border=\"1\" class=\"dataframe\">\n",
       "  <thead>\n",
       "    <tr style=\"text-align: right;\">\n",
       "      <th></th>\n",
       "      <th>fertility</th>\n",
       "      <th>ppgdp</th>\n",
       "      <th>lifeExpF</th>\n",
       "      <th>pctUrban</th>\n",
       "      <th>infantMortality</th>\n",
       "      <th>log_ppgdp</th>\n",
       "      <th>sqtr_ppgdp</th>\n",
       "    </tr>\n",
       "  </thead>\n",
       "  <tbody>\n",
       "    <tr>\n",
       "      <th>0</th>\n",
       "      <td>1.525</td>\n",
       "      <td>3677.2</td>\n",
       "      <td>80.40</td>\n",
       "      <td>53</td>\n",
       "      <td>16.561</td>\n",
       "      <td>8.209907</td>\n",
       "      <td>60.639921</td>\n",
       "    </tr>\n",
       "    <tr>\n",
       "      <th>1</th>\n",
       "      <td>2.142</td>\n",
       "      <td>4473.0</td>\n",
       "      <td>75.00</td>\n",
       "      <td>67</td>\n",
       "      <td>21.458</td>\n",
       "      <td>8.405815</td>\n",
       "      <td>66.880490</td>\n",
       "    </tr>\n",
       "    <tr>\n",
       "      <th>2</th>\n",
       "      <td>5.135</td>\n",
       "      <td>4321.9</td>\n",
       "      <td>53.17</td>\n",
       "      <td>59</td>\n",
       "      <td>96.191</td>\n",
       "      <td>8.371450</td>\n",
       "      <td>65.741159</td>\n",
       "    </tr>\n",
       "    <tr>\n",
       "      <th>3</th>\n",
       "      <td>2.172</td>\n",
       "      <td>9162.1</td>\n",
       "      <td>79.89</td>\n",
       "      <td>93</td>\n",
       "      <td>12.337</td>\n",
       "      <td>9.122831</td>\n",
       "      <td>95.718859</td>\n",
       "    </tr>\n",
       "    <tr>\n",
       "      <th>4</th>\n",
       "      <td>1.735</td>\n",
       "      <td>3030.7</td>\n",
       "      <td>77.33</td>\n",
       "      <td>64</td>\n",
       "      <td>24.272</td>\n",
       "      <td>8.016549</td>\n",
       "      <td>55.051794</td>\n",
       "    </tr>\n",
       "  </tbody>\n",
       "</table>\n",
       "</div>"
      ],
      "text/plain": [
       "   fertility   ppgdp  lifeExpF  pctUrban  infantMortality  log_ppgdp  \\\n",
       "0      1.525  3677.2     80.40        53           16.561   8.209907   \n",
       "1      2.142  4473.0     75.00        67           21.458   8.405815   \n",
       "2      5.135  4321.9     53.17        59           96.191   8.371450   \n",
       "3      2.172  9162.1     79.89        93           12.337   9.122831   \n",
       "4      1.735  3030.7     77.33        64           24.272   8.016549   \n",
       "\n",
       "   sqtr_ppgdp  \n",
       "0   60.639921  \n",
       "1   66.880490  \n",
       "2   65.741159  \n",
       "3   95.718859  \n",
       "4   55.051794  "
      ]
     },
     "execution_count": 19,
     "metadata": {},
     "output_type": "execute_result"
    }
   ],
   "source": [
    "# Selecionando apenas as variáveis numéricas\n",
    "un.select_dtypes(include='number').head()"
   ]
  },
  {
   "cell_type": "code",
   "execution_count": 20,
   "metadata": {},
   "outputs": [
    {
     "data": {
      "text/html": [
       "<div>\n",
       "<style scoped>\n",
       "    .dataframe tbody tr th:only-of-type {\n",
       "        vertical-align: middle;\n",
       "    }\n",
       "\n",
       "    .dataframe tbody tr th {\n",
       "        vertical-align: top;\n",
       "    }\n",
       "\n",
       "    .dataframe thead th {\n",
       "        text-align: right;\n",
       "    }\n",
       "</style>\n",
       "<table border=\"1\" class=\"dataframe\">\n",
       "  <thead>\n",
       "    <tr style=\"text-align: right;\">\n",
       "      <th></th>\n",
       "      <th>fertility</th>\n",
       "      <th>lifeExpF</th>\n",
       "      <th>pctUrban</th>\n",
       "      <th>infantMortality</th>\n",
       "      <th>sqtr_ppgdp</th>\n",
       "    </tr>\n",
       "  </thead>\n",
       "  <tbody>\n",
       "    <tr>\n",
       "      <th>0</th>\n",
       "      <td>1.525</td>\n",
       "      <td>80.40</td>\n",
       "      <td>53</td>\n",
       "      <td>16.561</td>\n",
       "      <td>60.639921</td>\n",
       "    </tr>\n",
       "    <tr>\n",
       "      <th>1</th>\n",
       "      <td>2.142</td>\n",
       "      <td>75.00</td>\n",
       "      <td>67</td>\n",
       "      <td>21.458</td>\n",
       "      <td>66.880490</td>\n",
       "    </tr>\n",
       "    <tr>\n",
       "      <th>2</th>\n",
       "      <td>5.135</td>\n",
       "      <td>53.17</td>\n",
       "      <td>59</td>\n",
       "      <td>96.191</td>\n",
       "      <td>65.741159</td>\n",
       "    </tr>\n",
       "    <tr>\n",
       "      <th>3</th>\n",
       "      <td>2.172</td>\n",
       "      <td>79.89</td>\n",
       "      <td>93</td>\n",
       "      <td>12.337</td>\n",
       "      <td>95.718859</td>\n",
       "    </tr>\n",
       "    <tr>\n",
       "      <th>4</th>\n",
       "      <td>1.735</td>\n",
       "      <td>77.33</td>\n",
       "      <td>64</td>\n",
       "      <td>24.272</td>\n",
       "      <td>55.051794</td>\n",
       "    </tr>\n",
       "  </tbody>\n",
       "</table>\n",
       "</div>"
      ],
      "text/plain": [
       "   fertility  lifeExpF  pctUrban  infantMortality  sqtr_ppgdp\n",
       "0      1.525     80.40        53           16.561   60.639921\n",
       "1      2.142     75.00        67           21.458   66.880490\n",
       "2      5.135     53.17        59           96.191   65.741159\n",
       "3      2.172     79.89        93           12.337   95.718859\n",
       "4      1.735     77.33        64           24.272   55.051794"
      ]
     },
     "execution_count": 20,
     "metadata": {},
     "output_type": "execute_result"
    }
   ],
   "source": [
    "# Selecionando apenas as variáveis numéricas\n",
    "un_numerico = un.select_dtypes(include='number')\n",
    "\n",
    "# Excluindo a variável ppgdp e log_ppgdp, pois iremos utilizar apenas a sqtr_ppgdp\n",
    "un_numerico = un_numerico.drop(['ppgdp', 'log_ppgdp'], axis = 1)\n",
    "\n",
    "# Index\n",
    "un_numerico.index.values\n",
    "\n",
    "# Vizualizar o resultado\n",
    "un_numerico.head()"
   ]
  },
  {
   "cell_type": "markdown",
   "metadata": {},
   "source": [
    "## Montando a matriz de correlação das variáveis numéricas\n",
    "\n",
    "O objetivo dessa análise é encontrar variáveis altamente correlacionadas a fim de que possa prejudicar na preparação dos cluster.  \n",
    "\n",
    "**Correlação (0,9 a 1,0):** positiva ou negativa é considerada muito forte;  \n",
    "**Correlação (0,7 a 0,9):** positiva ou negativa é considerada correlação forte;  \n",
    "**Correlação (0,5 a 0,7):** positiva ou negativa é considerada correlação moderada;  \n",
    "**Correlação (0,3 a 0,4):** positiva ou negativa é considerada correlação fraca;  \n",
    "**Correlação (0,0 a 0,3):** positiva ou negativa não possui correlação;"
   ]
  },
  {
   "cell_type": "code",
   "execution_count": 21,
   "metadata": {
    "scrolled": true
   },
   "outputs": [
    {
     "data": {
      "text/html": [
       "<div>\n",
       "<style scoped>\n",
       "    .dataframe tbody tr th:only-of-type {\n",
       "        vertical-align: middle;\n",
       "    }\n",
       "\n",
       "    .dataframe tbody tr th {\n",
       "        vertical-align: top;\n",
       "    }\n",
       "\n",
       "    .dataframe thead th {\n",
       "        text-align: right;\n",
       "    }\n",
       "</style>\n",
       "<table border=\"1\" class=\"dataframe\">\n",
       "  <thead>\n",
       "    <tr style=\"text-align: right;\">\n",
       "      <th></th>\n",
       "      <th>fertility</th>\n",
       "      <th>lifeExpF</th>\n",
       "      <th>pctUrban</th>\n",
       "      <th>infantMortality</th>\n",
       "      <th>sqtr_ppgdp</th>\n",
       "    </tr>\n",
       "  </thead>\n",
       "  <tbody>\n",
       "    <tr>\n",
       "      <th>fertility</th>\n",
       "      <td>1.00</td>\n",
       "      <td>-0.82</td>\n",
       "      <td>-0.53</td>\n",
       "      <td>0.85</td>\n",
       "      <td>-0.58</td>\n",
       "    </tr>\n",
       "    <tr>\n",
       "      <th>lifeExpF</th>\n",
       "      <td>-0.82</td>\n",
       "      <td>1.00</td>\n",
       "      <td>0.59</td>\n",
       "      <td>-0.94</td>\n",
       "      <td>0.68</td>\n",
       "    </tr>\n",
       "    <tr>\n",
       "      <th>pctUrban</th>\n",
       "      <td>-0.53</td>\n",
       "      <td>0.59</td>\n",
       "      <td>1.00</td>\n",
       "      <td>-0.59</td>\n",
       "      <td>0.69</td>\n",
       "    </tr>\n",
       "    <tr>\n",
       "      <th>infantMortality</th>\n",
       "      <td>0.85</td>\n",
       "      <td>-0.94</td>\n",
       "      <td>-0.59</td>\n",
       "      <td>1.00</td>\n",
       "      <td>-0.66</td>\n",
       "    </tr>\n",
       "    <tr>\n",
       "      <th>sqtr_ppgdp</th>\n",
       "      <td>-0.58</td>\n",
       "      <td>0.68</td>\n",
       "      <td>0.69</td>\n",
       "      <td>-0.66</td>\n",
       "      <td>1.00</td>\n",
       "    </tr>\n",
       "  </tbody>\n",
       "</table>\n",
       "</div>"
      ],
      "text/plain": [
       "                 fertility  lifeExpF  pctUrban  infantMortality  sqtr_ppgdp\n",
       "fertility             1.00     -0.82     -0.53             0.85       -0.58\n",
       "lifeExpF             -0.82      1.00      0.59            -0.94        0.68\n",
       "pctUrban             -0.53      0.59      1.00            -0.59        0.69\n",
       "infantMortality       0.85     -0.94     -0.59             1.00       -0.66\n",
       "sqtr_ppgdp           -0.58      0.68      0.69            -0.66        1.00"
      ]
     },
     "execution_count": 21,
     "metadata": {},
     "output_type": "execute_result"
    }
   ],
   "source": [
    "# Montando a correlação das variáveis do dataframe\n",
    "# As Variáveis lifeExpF e infantMortality estão altamente correlacionadas\n",
    "# Decidimos por retirar a 'infantMortality'\n",
    "round( un_numerico.corr(), 2)"
   ]
  },
  {
   "cell_type": "code",
   "execution_count": 22,
   "metadata": {},
   "outputs": [
    {
     "data": {
      "image/png": "[encoded data removed]",
      "text/plain": [
       "<Figure size 432x288 with 2 Axes>"
      ]
     },
     "metadata": {
      "needs_background": "light"
     },
     "output_type": "display_data"
    }
   ],
   "source": [
    "# Gráfico de correlação\n",
    "sns.heatmap(un_numerico.corr(), cmap=\"Wistia\", annot=True)\n",
    "plt.show()"
   ]
  },
  {
   "cell_type": "code",
   "execution_count": 23,
   "metadata": {},
   "outputs": [
    {
     "data": {
      "text/html": [
       "<div>\n",
       "<style scoped>\n",
       "    .dataframe tbody tr th:only-of-type {\n",
       "        vertical-align: middle;\n",
       "    }\n",
       "\n",
       "    .dataframe tbody tr th {\n",
       "        vertical-align: top;\n",
       "    }\n",
       "\n",
       "    .dataframe thead th {\n",
       "        text-align: right;\n",
       "    }\n",
       "</style>\n",
       "<table border=\"1\" class=\"dataframe\">\n",
       "  <thead>\n",
       "    <tr style=\"text-align: right;\">\n",
       "      <th></th>\n",
       "      <th>fertility</th>\n",
       "      <th>lifeExpF</th>\n",
       "      <th>pctUrban</th>\n",
       "      <th>sqtr_ppgdp</th>\n",
       "    </tr>\n",
       "  </thead>\n",
       "  <tbody>\n",
       "    <tr>\n",
       "      <th>fertility</th>\n",
       "      <td>1.00</td>\n",
       "      <td>-0.82</td>\n",
       "      <td>-0.53</td>\n",
       "      <td>-0.58</td>\n",
       "    </tr>\n",
       "    <tr>\n",
       "      <th>lifeExpF</th>\n",
       "      <td>-0.82</td>\n",
       "      <td>1.00</td>\n",
       "      <td>0.59</td>\n",
       "      <td>0.68</td>\n",
       "    </tr>\n",
       "    <tr>\n",
       "      <th>pctUrban</th>\n",
       "      <td>-0.53</td>\n",
       "      <td>0.59</td>\n",
       "      <td>1.00</td>\n",
       "      <td>0.69</td>\n",
       "    </tr>\n",
       "    <tr>\n",
       "      <th>sqtr_ppgdp</th>\n",
       "      <td>-0.58</td>\n",
       "      <td>0.68</td>\n",
       "      <td>0.69</td>\n",
       "      <td>1.00</td>\n",
       "    </tr>\n",
       "  </tbody>\n",
       "</table>\n",
       "</div>"
      ],
      "text/plain": [
       "            fertility  lifeExpF  pctUrban  sqtr_ppgdp\n",
       "fertility        1.00     -0.82     -0.53       -0.58\n",
       "lifeExpF        -0.82      1.00      0.59        0.68\n",
       "pctUrban        -0.53      0.59      1.00        0.69\n",
       "sqtr_ppgdp      -0.58      0.68      0.69        1.00"
      ]
     },
     "execution_count": 23,
     "metadata": {},
     "output_type": "execute_result"
    }
   ],
   "source": [
    "# Outra forma de excluir colunas em um Data Frame\n",
    "un_numerico = un_numerico.drop(columns=['infantMortality'])\n",
    "\n",
    "# Gerando novamente a correlação \n",
    "round( un_numerico.corr(), 2)"
   ]
  },
  {
   "cell_type": "code",
   "execution_count": 24,
   "metadata": {},
   "outputs": [
    {
     "data": {
      "image/png": "[encoded data removed]",
      "text/plain": [
       "<Figure size 432x288 with 2 Axes>"
      ]
     },
     "metadata": {
      "needs_background": "light"
     },
     "output_type": "display_data"
    }
   ],
   "source": [
    "# Gráfico de correlação\n",
    "sns.heatmap(un_numerico.corr(), cmap=\"Wistia\", annot=True)\n",
    "plt.show()"
   ]
  },
  {
   "cell_type": "markdown",
   "metadata": {},
   "source": [
    "## Calculando a distancia Euclidiana dos dados - Padronização dos Dados"
   ]
  },
  {
   "cell_type": "markdown",
   "metadata": {},
   "source": [
    "A padronização foi realizada pela Score Z (Normalização segundo a Amplitude)\n",
    "\n",
    "$$\n",
    "Score \\; Z = \\dfrac{Valor - Média}{Desvio}\n",
    "$$\n",
    "\n",
    "Fonte: [Normalização/Padronização](https://rpubs.com/victorpasson/normalizacao)"
   ]
  },
  {
   "cell_type": "code",
   "execution_count": 25,
   "metadata": {},
   "outputs": [
    {
     "name": "stdout",
     "output_type": "stream",
     "text": [
      "fertility      2.753241\n",
      "lifeExpF      72.285185\n",
      "pctUrban      57.195767\n",
      "sqtr_ppgdp    89.378464\n",
      "dtype: float64 fertility      1.329027\n",
      "lifeExpF      10.040272\n",
      "pctUrban      22.993033\n",
      "sqtr_ppgdp    66.768214\n",
      "dtype: float64\n"
     ]
    }
   ],
   "source": [
    "# Calcular a média dos desvios\n",
    "print(un_numerico.mean(),\n",
    "      un_numerico.std() \n",
    "     )\n",
    "\n",
    "# Calcular o desvio\n",
    "# Realizar o calculo"
   ]
  },
  {
   "cell_type": "code",
   "execution_count": 26,
   "metadata": {},
   "outputs": [
    {
     "data": {
      "text/html": [
       "<div>\n",
       "<style scoped>\n",
       "    .dataframe tbody tr th:only-of-type {\n",
       "        vertical-align: middle;\n",
       "    }\n",
       "\n",
       "    .dataframe tbody tr th {\n",
       "        vertical-align: top;\n",
       "    }\n",
       "\n",
       "    .dataframe thead th {\n",
       "        text-align: right;\n",
       "    }\n",
       "</style>\n",
       "<table border=\"1\" class=\"dataframe\">\n",
       "  <thead>\n",
       "    <tr style=\"text-align: right;\">\n",
       "      <th></th>\n",
       "      <th>fertility</th>\n",
       "      <th>lifeExpF</th>\n",
       "      <th>pctUrban</th>\n",
       "      <th>sqtr_ppgdp</th>\n",
       "    </tr>\n",
       "  </thead>\n",
       "  <tbody>\n",
       "    <tr>\n",
       "      <th>0</th>\n",
       "      <td>-0.924165</td>\n",
       "      <td>0.808227</td>\n",
       "      <td>-0.182480</td>\n",
       "      <td>-0.430423</td>\n",
       "    </tr>\n",
       "    <tr>\n",
       "      <th>1</th>\n",
       "      <td>-0.459916</td>\n",
       "      <td>0.270393</td>\n",
       "      <td>0.426400</td>\n",
       "      <td>-0.336956</td>\n",
       "    </tr>\n",
       "    <tr>\n",
       "      <th>2</th>\n",
       "      <td>1.792108</td>\n",
       "      <td>-1.903851</td>\n",
       "      <td>0.078469</td>\n",
       "      <td>-0.354020</td>\n",
       "    </tr>\n",
       "    <tr>\n",
       "      <th>3</th>\n",
       "      <td>-0.437343</td>\n",
       "      <td>0.757431</td>\n",
       "      <td>1.557177</td>\n",
       "      <td>0.094961</td>\n",
       "    </tr>\n",
       "    <tr>\n",
       "      <th>4</th>\n",
       "      <td>-0.766155</td>\n",
       "      <td>0.502458</td>\n",
       "      <td>0.295926</td>\n",
       "      <td>-0.514117</td>\n",
       "    </tr>\n",
       "  </tbody>\n",
       "</table>\n",
       "</div>"
      ],
      "text/plain": [
       "   fertility  lifeExpF  pctUrban  sqtr_ppgdp\n",
       "0  -0.924165  0.808227 -0.182480   -0.430423\n",
       "1  -0.459916  0.270393  0.426400   -0.336956\n",
       "2   1.792108 -1.903851  0.078469   -0.354020\n",
       "3  -0.437343  0.757431  1.557177    0.094961\n",
       "4  -0.766155  0.502458  0.295926   -0.514117"
      ]
     },
     "execution_count": 26,
     "metadata": {},
     "output_type": "execute_result"
    }
   ],
   "source": [
    "# Gerando a padronização das variáveis\n",
    "un_num_padr = ((\n",
    "    un_numerico[['fertility', 'lifeExpF', 'pctUrban', 'sqtr_ppgdp']] - \n",
    "    un_numerico[['fertility', 'lifeExpF', 'pctUrban', 'sqtr_ppgdp']].mean() \n",
    "                ) / \n",
    "    un_numerico.std()\n",
    "               )\n",
    "\n",
    "un_num_padr.head()"
   ]
  },
  {
   "cell_type": "code",
   "execution_count": 27,
   "metadata": {},
   "outputs": [
    {
     "data": {
      "text/html": [
       "<div>\n",
       "<style scoped>\n",
       "    .dataframe tbody tr th:only-of-type {\n",
       "        vertical-align: middle;\n",
       "    }\n",
       "\n",
       "    .dataframe tbody tr th {\n",
       "        vertical-align: top;\n",
       "    }\n",
       "\n",
       "    .dataframe thead th {\n",
       "        text-align: right;\n",
       "    }\n",
       "</style>\n",
       "<table border=\"1\" class=\"dataframe\">\n",
       "  <thead>\n",
       "    <tr style=\"text-align: right;\">\n",
       "      <th></th>\n",
       "      <th>fertility</th>\n",
       "      <th>lifeExpF</th>\n",
       "      <th>pctUrban</th>\n",
       "      <th>sqtr_ppgdp</th>\n",
       "    </tr>\n",
       "  </thead>\n",
       "  <tbody>\n",
       "    <tr>\n",
       "      <th>count</th>\n",
       "      <td>189.00</td>\n",
       "      <td>189.00</td>\n",
       "      <td>189.00</td>\n",
       "      <td>189.00</td>\n",
       "    </tr>\n",
       "    <tr>\n",
       "      <th>mean</th>\n",
       "      <td>0.00</td>\n",
       "      <td>0.00</td>\n",
       "      <td>-0.00</td>\n",
       "      <td>-0.00</td>\n",
       "    </tr>\n",
       "    <tr>\n",
       "      <th>std</th>\n",
       "      <td>1.00</td>\n",
       "      <td>1.00</td>\n",
       "      <td>1.00</td>\n",
       "      <td>1.00</td>\n",
       "    </tr>\n",
       "    <tr>\n",
       "      <th>min</th>\n",
       "      <td>-1.22</td>\n",
       "      <td>-2.41</td>\n",
       "      <td>-2.01</td>\n",
       "      <td>-1.18</td>\n",
       "    </tr>\n",
       "    <tr>\n",
       "      <th>25%</th>\n",
       "      <td>-0.77</td>\n",
       "      <td>-0.67</td>\n",
       "      <td>-0.79</td>\n",
       "      <td>-0.80</td>\n",
       "    </tr>\n",
       "    <tr>\n",
       "      <th>50%</th>\n",
       "      <td>-0.37</td>\n",
       "      <td>0.33</td>\n",
       "      <td>0.08</td>\n",
       "      <td>-0.33</td>\n",
       "    </tr>\n",
       "    <tr>\n",
       "      <th>75%</th>\n",
       "      <td>0.63</td>\n",
       "      <td>0.72</td>\n",
       "      <td>0.73</td>\n",
       "      <td>0.51</td>\n",
       "    </tr>\n",
       "    <tr>\n",
       "      <th>max</th>\n",
       "      <td>3.14</td>\n",
       "      <td>1.48</td>\n",
       "      <td>1.86</td>\n",
       "      <td>3.52</td>\n",
       "    </tr>\n",
       "  </tbody>\n",
       "</table>\n",
       "</div>"
      ],
      "text/plain": [
       "       fertility  lifeExpF  pctUrban  sqtr_ppgdp\n",
       "count     189.00    189.00    189.00      189.00\n",
       "mean        0.00      0.00     -0.00       -0.00\n",
       "std         1.00      1.00      1.00        1.00\n",
       "min        -1.22     -2.41     -2.01       -1.18\n",
       "25%        -0.77     -0.67     -0.79       -0.80\n",
       "50%        -0.37      0.33      0.08       -0.33\n",
       "75%         0.63      0.72      0.73        0.51\n",
       "max         3.14      1.48      1.86        3.52"
      ]
     },
     "execution_count": 27,
     "metadata": {},
     "output_type": "execute_result"
    }
   ],
   "source": [
    "# REsultado a Padronização \n",
    "round( un_num_padr.describe(), 2)"
   ]
  },
  {
   "cell_type": "markdown",
   "metadata": {},
   "source": [
    "Para calcular a distancia euclidiana utilizaremos a fórmula abaixo:\n",
    "\n",
    "$$\n",
    "d(x,y) = \\sqrt{\\sum^{n}_{i = 1} (y_i - x_i)^2}\n",
    "$$"
   ]
  },
  {
   "cell_type": "code",
   "execution_count": 28,
   "metadata": {},
   "outputs": [
    {
     "data": {
      "text/html": [
       "<div>\n",
       "<style scoped>\n",
       "    .dataframe tbody tr th:only-of-type {\n",
       "        vertical-align: middle;\n",
       "    }\n",
       "\n",
       "    .dataframe tbody tr th {\n",
       "        vertical-align: top;\n",
       "    }\n",
       "\n",
       "    .dataframe thead th {\n",
       "        text-align: right;\n",
       "    }\n",
       "</style>\n",
       "<table border=\"1\" class=\"dataframe\">\n",
       "  <thead>\n",
       "    <tr style=\"text-align: right;\">\n",
       "      <th></th>\n",
       "      <th>0</th>\n",
       "      <th>1</th>\n",
       "      <th>2</th>\n",
       "      <th>3</th>\n",
       "      <th>4</th>\n",
       "      <th>5</th>\n",
       "      <th>6</th>\n",
       "      <th>7</th>\n",
       "      <th>8</th>\n",
       "      <th>9</th>\n",
       "      <th>...</th>\n",
       "      <th>179</th>\n",
       "      <th>180</th>\n",
       "      <th>181</th>\n",
       "      <th>182</th>\n",
       "      <th>183</th>\n",
       "      <th>184</th>\n",
       "      <th>185</th>\n",
       "      <th>186</th>\n",
       "      <th>187</th>\n",
       "      <th>188</th>\n",
       "    </tr>\n",
       "  </thead>\n",
       "  <tbody>\n",
       "    <tr>\n",
       "      <th>0</th>\n",
       "      <td>0.000000</td>\n",
       "      <td>0.940353</td>\n",
       "      <td>3.848043</td>\n",
       "      <td>1.882023</td>\n",
       "      <td>0.595263</td>\n",
       "      <td>1.410012</td>\n",
       "      <td>3.136464</td>\n",
       "      <td>2.390739</td>\n",
       "      <td>0.847980</td>\n",
       "      <td>1.922967</td>\n",
       "      <td>...</td>\n",
       "      <td>2.296515</td>\n",
       "      <td>2.698070</td>\n",
       "      <td>1.926322</td>\n",
       "      <td>1.299913</td>\n",
       "      <td>2.156789</td>\n",
       "      <td>2.089833</td>\n",
       "      <td>1.088865</td>\n",
       "      <td>3.025719</td>\n",
       "      <td>4.769080</td>\n",
       "      <td>3.113496</td>\n",
       "    </tr>\n",
       "    <tr>\n",
       "      <th>1</th>\n",
       "      <td>0.940353</td>\n",
       "      <td>0.000000</td>\n",
       "      <td>3.149650</td>\n",
       "      <td>1.304962</td>\n",
       "      <td>0.442771</td>\n",
       "      <td>1.597126</td>\n",
       "      <td>2.904149</td>\n",
       "      <td>2.417191</td>\n",
       "      <td>0.677139</td>\n",
       "      <td>1.509449</td>\n",
       "      <td>...</td>\n",
       "      <td>2.083724</td>\n",
       "      <td>2.419210</td>\n",
       "      <td>1.416386</td>\n",
       "      <td>1.453086</td>\n",
       "      <td>2.167539</td>\n",
       "      <td>1.426042</td>\n",
       "      <td>1.683519</td>\n",
       "      <td>2.732353</td>\n",
       "      <td>4.243988</td>\n",
       "      <td>2.711126</td>\n",
       "    </tr>\n",
       "    <tr>\n",
       "      <th>2</th>\n",
       "      <td>3.848043</td>\n",
       "      <td>3.149650</td>\n",
       "      <td>0.000000</td>\n",
       "      <td>3.800137</td>\n",
       "      <td>3.522492</td>\n",
       "      <td>3.833557</td>\n",
       "      <td>4.876178</td>\n",
       "      <td>4.718949</td>\n",
       "      <td>3.054235</td>\n",
       "      <td>3.914227</td>\n",
       "      <td>...</td>\n",
       "      <td>4.343326</td>\n",
       "      <td>4.391624</td>\n",
       "      <td>3.939783</td>\n",
       "      <td>3.053295</td>\n",
       "      <td>2.703117</td>\n",
       "      <td>3.624190</td>\n",
       "      <td>3.746154</td>\n",
       "      <td>1.912437</td>\n",
       "      <td>1.440715</td>\n",
       "      <td>1.863986</td>\n",
       "    </tr>\n",
       "    <tr>\n",
       "      <th>3</th>\n",
       "      <td>1.882023</td>\n",
       "      <td>1.304962</td>\n",
       "      <td>3.800137</td>\n",
       "      <td>0.000000</td>\n",
       "      <td>1.461116</td>\n",
       "      <td>2.208986</td>\n",
       "      <td>2.203075</td>\n",
       "      <td>2.181936</td>\n",
       "      <td>1.913238</td>\n",
       "      <td>0.933290</td>\n",
       "      <td>...</td>\n",
       "      <td>1.566858</td>\n",
       "      <td>1.856292</td>\n",
       "      <td>0.238416</td>\n",
       "      <td>2.745287</td>\n",
       "      <td>3.267715</td>\n",
       "      <td>0.411622</td>\n",
       "      <td>2.876631</td>\n",
       "      <td>3.688245</td>\n",
       "      <td>5.045183</td>\n",
       "      <td>3.806760</td>\n",
       "    </tr>\n",
       "    <tr>\n",
       "      <th>4</th>\n",
       "      <td>0.595263</td>\n",
       "      <td>0.442771</td>\n",
       "      <td>3.522492</td>\n",
       "      <td>1.461116</td>\n",
       "      <td>0.000000</td>\n",
       "      <td>1.619562</td>\n",
       "      <td>3.045605</td>\n",
       "      <td>2.461895</td>\n",
       "      <td>0.769786</td>\n",
       "      <td>1.675629</td>\n",
       "      <td>...</td>\n",
       "      <td>2.207324</td>\n",
       "      <td>2.588155</td>\n",
       "      <td>1.554109</td>\n",
       "      <td>1.414489</td>\n",
       "      <td>2.273680</td>\n",
       "      <td>1.669236</td>\n",
       "      <td>1.468283</td>\n",
       "      <td>2.956126</td>\n",
       "      <td>4.556037</td>\n",
       "      <td>2.911388</td>\n",
       "    </tr>\n",
       "    <tr>\n",
       "      <th>5</th>\n",
       "      <td>1.410012</td>\n",
       "      <td>1.597126</td>\n",
       "      <td>3.833557</td>\n",
       "      <td>2.208986</td>\n",
       "      <td>1.619562</td>\n",
       "      <td>0.000000</td>\n",
       "      <td>2.352107</td>\n",
       "      <td>1.439319</td>\n",
       "      <td>1.280833</td>\n",
       "      <td>1.620455</td>\n",
       "      <td>...</td>\n",
       "      <td>1.626859</td>\n",
       "      <td>1.898921</td>\n",
       "      <td>2.134821</td>\n",
       "      <td>1.910867</td>\n",
       "      <td>2.356377</td>\n",
       "      <td>2.178551</td>\n",
       "      <td>1.883525</td>\n",
       "      <td>3.218002</td>\n",
       "      <td>4.795282</td>\n",
       "      <td>3.337304</td>\n",
       "    </tr>\n",
       "  </tbody>\n",
       "</table>\n",
       "<p>6 rows × 189 columns</p>\n",
       "</div>"
      ],
      "text/plain": [
       "        0         1         2         3         4         5         6    \\\n",
       "0  0.000000  0.940353  3.848043  1.882023  0.595263  1.410012  3.136464   \n",
       "1  0.940353  0.000000  3.149650  1.304962  0.442771  1.597126  2.904149   \n",
       "2  3.848043  3.149650  0.000000  3.800137  3.522492  3.833557  4.876178   \n",
       "3  1.882023  1.304962  3.800137  0.000000  1.461116  2.208986  2.203075   \n",
       "4  0.595263  0.442771  3.522492  1.461116  0.000000  1.619562  3.045605   \n",
       "5  1.410012  1.597126  3.833557  2.208986  1.619562  0.000000  2.352107   \n",
       "\n",
       "        7         8         9    ...       179       180       181       182  \\\n",
       "0  2.390739  0.847980  1.922967  ...  2.296515  2.698070  1.926322  1.299913   \n",
       "1  2.417191  0.677139  1.509449  ...  2.083724  2.419210  1.416386  1.453086   \n",
       "2  4.718949  3.054235  3.914227  ...  4.343326  4.391624  3.939783  3.053295   \n",
       "3  2.181936  1.913238  0.933290  ...  1.566858  1.856292  0.238416  2.745287   \n",
       "4  2.461895  0.769786  1.675629  ...  2.207324  2.588155  1.554109  1.414489   \n",
       "5  1.439319  1.280833  1.620455  ...  1.626859  1.898921  2.134821  1.910867   \n",
       "\n",
       "        183       184       185       186       187       188  \n",
       "0  2.156789  2.089833  1.088865  3.025719  4.769080  3.113496  \n",
       "1  2.167539  1.426042  1.683519  2.732353  4.243988  2.711126  \n",
       "2  2.703117  3.624190  3.746154  1.912437  1.440715  1.863986  \n",
       "3  3.267715  0.411622  2.876631  3.688245  5.045183  3.806760  \n",
       "4  2.273680  1.669236  1.468283  2.956126  4.556037  2.911388  \n",
       "5  2.356377  2.178551  1.883525  3.218002  4.795282  3.337304  \n",
       "\n",
       "[6 rows x 189 columns]"
      ]
     },
     "execution_count": 28,
     "metadata": {},
     "output_type": "execute_result"
    }
   ],
   "source": [
    "from scipy.spatial import distance_matrix\n",
    "\n",
    "# Gerando a matriz de distancia com o Método Euclidiano\n",
    "un_num_dist = pd.DataFrame(distance_matrix(un_num_padr.values, un_num_padr.values),\n",
    "                           index=un_num_padr.index, \n",
    "                           columns=un_num_padr.index)\n",
    "\n",
    "# Data Frame da matriz de distância \n",
    "un_num_dist.head(6)"
   ]
  },
  {
   "cell_type": "code",
   "execution_count": 29,
   "metadata": {},
   "outputs": [
    {
     "data": {
      "image/png": "[encoded data removed]",
      "text/plain": [
       "<Figure size 720x504 with 1 Axes>"
      ]
     },
     "metadata": {
      "needs_background": "light"
     },
     "output_type": "display_data"
    }
   ],
   "source": [
    "import scipy.cluster.hierarchy as shc\n",
    "plt.figure(figsize=(10, 7))  \n",
    "plt.title(\"Dendrograms\", size = 18)  \n",
    "dend = shc.dendrogram(shc.linkage(un_num_padr, method='ward'))"
   ]
  },
  {
   "cell_type": "code",
   "execution_count": 30,
   "metadata": {},
   "outputs": [
    {
     "data": {
      "text/plain": [
       "<matplotlib.lines.Line2D at 0x1a678b81e50>"
      ]
     },
     "execution_count": 30,
     "metadata": {},
     "output_type": "execute_result"
    },
    {
     "data": {
      "image/png": "[encoded data removed]",
      "text/plain": [
       "<Figure size 720x504 with 1 Axes>"
      ]
     },
     "metadata": {
      "needs_background": "light"
     },
     "output_type": "display_data"
    }
   ],
   "source": [
    "# Opção por tres clusters\n",
    "plt.figure(figsize=(10, 7))  \n",
    "plt.title(\"Dendrograms\", size = 18)  \n",
    "dend = shc.dendrogram(shc.linkage(un_num_padr, method='ward'))\n",
    "plt.axhline(y=15,  \n",
    "            color='r', \n",
    "            linestyle='--')"
   ]
  },
  {
   "cell_type": "code",
   "execution_count": 31,
   "metadata": {},
   "outputs": [],
   "source": [
    "from sklearn.cluster import AgglomerativeClustering\n",
    "\n",
    "# criando os Clusters\n",
    "cluster = AgglomerativeClustering(n_clusters=3, affinity='euclidean', linkage='ward')  \n",
    "\n",
    "# Salvando os cluster na coluna hclust no Data Frame un\n",
    "un['hclust'] = cluster.fit_predict(un_num_padr)"
   ]
  },
  {
   "cell_type": "code",
   "execution_count": 32,
   "metadata": {},
   "outputs": [
    {
     "data": {
      "text/plain": [
       "0         Albania\n",
       "1         Algeria\n",
       "4         Armenia\n",
       "8      Azerbaijan\n",
       "11     Bangladesh\n",
       "          ...    \n",
       "177       Ukraine\n",
       "182    Uzbekistan\n",
       "183       Vanuatu\n",
       "185      Viet Nam\n",
       "186         Yemen\n",
       "Name: country, Length: 101, dtype: object"
      ]
     },
     "execution_count": 32,
     "metadata": {},
     "output_type": "execute_result"
    }
   ],
   "source": [
    "un.loc[(un['hclust'] == 0)]['country']"
   ]
  },
  {
   "cell_type": "code",
   "execution_count": 33,
   "metadata": {},
   "outputs": [
    {
     "data": {
      "text/plain": [
       "3                 Argentina\n",
       "5                     Aruba\n",
       "6                 Australia\n",
       "7                   Austria\n",
       "9                   Bahamas\n",
       "10                  Bahrain\n",
       "12                 Barbados\n",
       "14                  Belgium\n",
       "21                   Brazil\n",
       "22        Brunei Darussalam\n",
       "28                   Canada\n",
       "31                    Chile\n",
       "38                  Croatia\n",
       "40                   Cyprus\n",
       "41           Czech Republic\n",
       "43                  Denmark\n",
       "55                  Finland\n",
       "56                   France\n",
       "57         French Polynesia\n",
       "61                  Germany\n",
       "63                   Greece\n",
       "71                Hong Kong\n",
       "73                  Iceland\n",
       "78                  Ireland\n",
       "79                   Israel\n",
       "80                    Italy\n",
       "82                    Japan\n",
       "87                   Kuwait\n",
       "91                  Lebanon\n",
       "96               Luxembourg\n",
       "97                    Macao\n",
       "103                   Malta\n",
       "118           Neth Antilles\n",
       "119             Netherlands\n",
       "120           New Caledonia\n",
       "121             New Zealand\n",
       "126                  Norway\n",
       "127                    Oman\n",
       "135                  Poland\n",
       "136                Portugal\n",
       "137             Puerto Rico\n",
       "138                   Qatar\n",
       "139       Republic of Korea\n",
       "146            Saudi Arabia\n",
       "150               Singapore\n",
       "151                Slovakia\n",
       "152                Slovenia\n",
       "156                   Spain\n",
       "162                  Sweden\n",
       "163             Switzerland\n",
       "178    United Arab Emirates\n",
       "179          United Kingdom\n",
       "180           United States\n",
       "181                 Uruguay\n",
       "184               Venezuela\n",
       "Name: country, dtype: object"
      ]
     },
     "execution_count": 33,
     "metadata": {},
     "output_type": "execute_result"
    }
   ],
   "source": [
    "un.loc[(un['hclust'] == 1)]['country']"
   ]
  },
  {
   "cell_type": "code",
   "execution_count": 34,
   "metadata": {
    "scrolled": false
   },
   "outputs": [
    {
     "data": {
      "text/plain": [
       "2                                Angola\n",
       "16                                Benin\n",
       "24                         Burkina Faso\n",
       "25                              Burundi\n",
       "27                             Cameroon\n",
       "30             Central African Republic\n",
       "35                                Congo\n",
       "37                         Cote dIvoire\n",
       "42     Democratic Republic of the Congo\n",
       "46                          Timor Leste\n",
       "50                    Equatorial Guinea\n",
       "59                               Gambia\n",
       "66                               Guinea\n",
       "67                        Guinea-Bissau\n",
       "92                              Lesotho\n",
       "93                              Liberia\n",
       "99                               Malawi\n",
       "102                                Mali\n",
       "105                          Mauritania\n",
       "113                          Mozambique\n",
       "123                               Niger\n",
       "124                             Nigeria\n",
       "142                              Rwanda\n",
       "147                             Senegal\n",
       "149                        Sierra Leone\n",
       "154                             Somalia\n",
       "159                               Sudan\n",
       "161                           Swaziland\n",
       "166                            Tanzania\n",
       "169                                Togo\n",
       "176                              Uganda\n",
       "187                              Zambia\n",
       "188                            Zimbabwe\n",
       "Name: country, dtype: object"
      ]
     },
     "execution_count": 34,
     "metadata": {},
     "output_type": "execute_result"
    }
   ],
   "source": [
    "un.loc[(un['hclust'] == 2)]['country']"
   ]
  },
  {
   "cell_type": "code",
   "execution_count": 35,
   "metadata": {},
   "outputs": [
    {
     "data": {
      "text/plain": [
       "Text(0.5, 1.0, 'lifeExpF')"
      ]
     },
     "execution_count": 35,
     "metadata": {},
     "output_type": "execute_result"
    },
    {
     "data": {
      "image/png": "[encoded data removed]",
      "text/plain": [
       "<Figure size 1080x1080 with 4 Axes>"
      ]
     },
     "metadata": {
      "needs_background": "light"
     },
     "output_type": "display_data"
    }
   ],
   "source": [
    "# Exploratory Date Analyses\n",
    "import pandas as pd\n",
    "import matplotlib.pyplot as plt\n",
    "import seaborn as sns\n",
    "\n",
    "#definindo o tamanho das figuras\n",
    "fig = plt.figure(figsize=(15, 15))\n",
    "\n",
    "# Gráfico 1 - Barras de Count\n",
    "fig.add_subplot(221)\n",
    "sns.boxplot(y = un['fertility'], \n",
    "            x = un['hclust']).set_title('fertility')\n",
    "\n",
    "# Gráfico 2 - Boxplot de Reason\n",
    "fig.add_subplot(222)\n",
    "sns.boxplot(y = un['sqtr_ppgdp'], \n",
    "            x = un['hclust']).set_title('sqtr_ppgdp')\n",
    "\n",
    "# Gráfico 3 - Barras de Count\n",
    "fig.add_subplot(223)\n",
    "sns.boxplot(y = un['pctUrban'],\n",
    "            x = un['hclust']).set_title('pctUrban')\n",
    "\n",
    "# Gráfico 4 - Boxplot de Reason\n",
    "fig.add_subplot(224)\n",
    "sns.boxplot(y = un['lifeExpF'], \n",
    "            x = un['hclust']).set_title('lifeExpF')"
   ]
  },
  {
   "cell_type": "markdown",
   "metadata": {},
   "source": [
    "# **FIM**"
   ]
  },
  {
   "cell_type": "markdown",
   "metadata": {},
   "source": [
    "## Bibliotecas utilizadas:  \n",
    "\n",
    "- [Pandas: https://pandas.pydata.org/docs/reference/io.html](https://pandas.pydata.org/docs/reference/io.html)\n",
    "- [Seaborn: https://seaborn.pydata.org](https://seaborn.pydata.org)\n",
    "- [Matplotlib: https://matplotlib.org](https://matplotlib.org)\n",
    "- [Scipy: https://docs.scipy.org/doc/scipy/reference/cluster.hierarchy.html](https://docs.scipy.org/doc/scipy/reference/cluster.hierarchy.html)"
   ]
  }
 ],
 "metadata": {
  "kernelspec": {
   "display_name": "Python 3",
   "language": "python",
   "name": "python3"
  },
  "language_info": {
   "codemirror_mode": {
    "name": "ipython",
    "version": 3
   },
   "file_extension": ".py",
   "mimetype": "text/x-python",
   "name": "python",
   "nbconvert_exporter": "python",
   "pygments_lexer": "ipython3",
   "version": "3.9.2"
  }
 },
 "nbformat": 4,
 "nbformat_minor": 4
}
